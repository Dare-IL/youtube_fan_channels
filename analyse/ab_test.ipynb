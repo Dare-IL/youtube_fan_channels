{
 "cells": [
  {
   "cell_type": "markdown",
   "metadata": {},
   "source": [
    "# A/B Test"
   ]
  },
  {
   "cell_type": "code",
   "execution_count": 62,
   "metadata": {},
   "outputs": [],
   "source": [
    "import pandas as pd\n",
    "import numpy as np"
   ]
  },
  {
   "cell_type": "markdown",
   "metadata": {},
   "source": [
    "Read in data"
   ]
  },
  {
   "cell_type": "code",
   "execution_count": 63,
   "metadata": {},
   "outputs": [],
   "source": [
    "channel_name = 'aftv'\n",
    "data = pd.read_csv(f'./{channel_name}_performance_statistics.csv')"
   ]
  },
  {
   "cell_type": "code",
   "execution_count": 64,
   "metadata": {},
   "outputs": [
    {
     "data": {
      "text/html": [
       "<div>\n",
       "<style scoped>\n",
       "    .dataframe tbody tr th:only-of-type {\n",
       "        vertical-align: middle;\n",
       "    }\n",
       "\n",
       "    .dataframe tbody tr th {\n",
       "        vertical-align: top;\n",
       "    }\n",
       "\n",
       "    .dataframe thead th {\n",
       "        text-align: right;\n",
       "    }\n",
       "</style>\n",
       "<table border=\"1\" class=\"dataframe\">\n",
       "  <thead>\n",
       "    <tr style=\"text-align: right;\">\n",
       "      <th></th>\n",
       "      <th>date</th>\n",
       "      <th>title</th>\n",
       "      <th>views</th>\n",
       "      <th>likes</th>\n",
       "      <th>comments</th>\n",
       "      <th>team_score</th>\n",
       "      <th>opponent_score</th>\n",
       "      <th>result</th>\n",
       "    </tr>\n",
       "  </thead>\n",
       "  <tbody>\n",
       "    <tr>\n",
       "      <th>0</th>\n",
       "      <td>2017-10-14</td>\n",
       "      <td>Watford 2-1 Arsenal | Arsenal Are Now Just An ...</td>\n",
       "      <td>169316</td>\n",
       "      <td>2824.0</td>\n",
       "      <td>746</td>\n",
       "      <td>1.0</td>\n",
       "      <td>2.0</td>\n",
       "      <td>loss</td>\n",
       "    </tr>\n",
       "    <tr>\n",
       "      <th>1</th>\n",
       "      <td>2017-10-15</td>\n",
       "      <td>Watford 2-1 Arsenal | I've Supported Arsenal S...</td>\n",
       "      <td>60090</td>\n",
       "      <td>1125.0</td>\n",
       "      <td>132</td>\n",
       "      <td>1.0</td>\n",
       "      <td>2.0</td>\n",
       "      <td>loss</td>\n",
       "    </tr>\n",
       "    <tr>\n",
       "      <th>2</th>\n",
       "      <td>2017-10-19</td>\n",
       "      <td>Red Star Belgrade 0 -1 Arsenal | It's Time To ...</td>\n",
       "      <td>419796</td>\n",
       "      <td>6314.0</td>\n",
       "      <td>948</td>\n",
       "      <td>1.0</td>\n",
       "      <td>0.0</td>\n",
       "      <td>win</td>\n",
       "    </tr>\n",
       "  </tbody>\n",
       "</table>\n",
       "</div>"
      ],
      "text/plain": [
       "         date                                              title   views  \\\n",
       "0  2017-10-14  Watford 2-1 Arsenal | Arsenal Are Now Just An ...  169316   \n",
       "1  2017-10-15  Watford 2-1 Arsenal | I've Supported Arsenal S...   60090   \n",
       "2  2017-10-19  Red Star Belgrade 0 -1 Arsenal | It's Time To ...  419796   \n",
       "\n",
       "    likes  comments  team_score  opponent_score result  \n",
       "0  2824.0       746         1.0             2.0   loss  \n",
       "1  1125.0       132         1.0             2.0   loss  \n",
       "2  6314.0       948         1.0             0.0    win  "
      ]
     },
     "execution_count": 64,
     "metadata": {},
     "output_type": "execute_result"
    }
   ],
   "source": [
    "data.head(3)"
   ]
  },
  {
   "cell_type": "markdown",
   "metadata": {},
   "source": [
    "### Calculate metrics"
   ]
  },
  {
   "cell_type": "code",
   "execution_count": 65,
   "metadata": {},
   "outputs": [],
   "source": [
    "data['like_ratio'] = data['likes']/data['views']\n",
    "data['comment_ratio'] = data['comments']/data['views']"
   ]
  },
  {
   "cell_type": "code",
   "execution_count": 66,
   "metadata": {},
   "outputs": [],
   "source": [
    "#data.head()"
   ]
  },
  {
   "cell_type": "markdown",
   "metadata": {},
   "source": [
    "### Split data into wins and losses "
   ]
  },
  {
   "cell_type": "code",
   "execution_count": 67,
   "metadata": {},
   "outputs": [],
   "source": [
    "wins = data[data['result'] == 'win']\n",
    "losses = data[data['result'] == 'loss']"
   ]
  },
  {
   "cell_type": "code",
   "execution_count": 68,
   "metadata": {},
   "outputs": [],
   "source": [
    "wins_likes = wins[['like_ratio']]\n",
    "wins_comments = wins[['comment_ratio']]"
   ]
  },
  {
   "cell_type": "code",
   "execution_count": 69,
   "metadata": {},
   "outputs": [],
   "source": [
    "loss_likes = losses[['like_ratio']]\n",
    "loss_comments = losses[['comment_ratio']]"
   ]
  },
  {
   "cell_type": "markdown",
   "metadata": {},
   "source": [
    "### Sample size\n",
    "\n",
    "Estimating the number of samples needed to detect a difference in metrics"
   ]
  },
  {
   "cell_type": "code",
   "execution_count": 70,
   "metadata": {},
   "outputs": [
    {
     "data": {
      "text/plain": [
       "(39456036, 39213893)"
      ]
     },
     "execution_count": 70,
     "metadata": {},
     "output_type": "execute_result"
    }
   ],
   "source": [
    "sum(wins['views']), sum(losses['views'])"
   ]
  },
  {
   "cell_type": "code",
   "execution_count": 71,
   "metadata": {},
   "outputs": [],
   "source": [
    "import statsmodels.stats.api as sms"
   ]
  },
  {
   "cell_type": "markdown",
   "metadata": {},
   "source": [
    "look for a 20% increase in the baseline rate"
   ]
  },
  {
   "cell_type": "code",
   "execution_count": 72,
   "metadata": {},
   "outputs": [],
   "source": [
    "bcr_likes = 0.02\n",
    "bcr_comments = 0.005\n",
    "increase = 1.2"
   ]
  },
  {
   "cell_type": "code",
   "execution_count": 73,
   "metadata": {},
   "outputs": [],
   "source": [
    "effect_size_likes = sms.proportion_effectsize(bcr_likes, increase*bcr_likes)\n",
    "effect_size_comments = sms.proportion_effectsize(bcr_comments, increase*bcr_comments)"
   ]
  },
  {
   "cell_type": "code",
   "execution_count": 74,
   "metadata": {},
   "outputs": [
    {
     "data": {
      "text/plain": [
       "(-0.02729749258363351, -0.013535199639911177)"
      ]
     },
     "execution_count": 74,
     "metadata": {},
     "output_type": "execute_result"
    }
   ],
   "source": [
    "effect_size_likes, effect_size_comments"
   ]
  },
  {
   "cell_type": "code",
   "execution_count": 75,
   "metadata": {},
   "outputs": [],
   "source": [
    "required_views_likes = sms.NormalIndPower().solve_power(\n",
    "    effect_size_likes, \n",
    "    power=0.8, \n",
    "    alpha=0.05, \n",
    "    ratio=1\n",
    "    )"
   ]
  },
  {
   "cell_type": "code",
   "execution_count": 76,
   "metadata": {},
   "outputs": [],
   "source": [
    "required_views_comments = sms.NormalIndPower().solve_power(\n",
    "    effect_size_comments, \n",
    "    power=0.8, \n",
    "    alpha=0.05, \n",
    "    ratio=1\n",
    "    )"
   ]
  },
  {
   "cell_type": "code",
   "execution_count": 77,
   "metadata": {},
   "outputs": [
    {
     "data": {
      "text/plain": [
       "(21066.437206055296, 85685.48805649913)"
      ]
     },
     "execution_count": 77,
     "metadata": {},
     "output_type": "execute_result"
    }
   ],
   "source": [
    "required_views_likes, required_views_comments"
   ]
  },
  {
   "cell_type": "markdown",
   "metadata": {},
   "source": [
    "- For like_ratio: using a baseline like rate of 2%, minimum detectable effect of a 20% increase, significance level of 5%, and power of 80%, we need a sample size of at least <code>required_views_likes</code> views\n",
    "\n",
    "- For comment_ratio: using a baseline comment rate of 0.5%, minimum detectable effect of 20% increase, significance level of 5%, and power of 80%, we need a sample size of at least <code>required_views_comments</code> views"
   ]
  },
  {
   "cell_type": "markdown",
   "metadata": {},
   "source": [
    "# Distributions"
   ]
  },
  {
   "cell_type": "code",
   "execution_count": 78,
   "metadata": {},
   "outputs": [],
   "source": [
    "from matplotlib import pyplot as plt\n",
    "import seaborn as sns"
   ]
  },
  {
   "cell_type": "code",
   "execution_count": 79,
   "metadata": {},
   "outputs": [],
   "source": [
    "def plot_dist(wins, losses, col, channel_name,kde=True, save_fig=False):\n",
    "    '''\n",
    "    Plot histogram and density curve of a given metric\n",
    "    Args:\n",
    "        col: column name of metric\n",
    "    '''\n",
    "    fig, ax1 = plt.subplots()\n",
    "    sns.distplot(wins[col], color='g', label='wins', kde=kde, ax=ax1);\n",
    "    sns.distplot(losses[col], color='r', label='losses',kde=kde, ax=ax1);\n",
    "    ax1.legend(loc='upper right');\n",
    "    title = col.replace(\"_\", \" \")\n",
    "    ax1.set_title(f'{channel_name.upper()}: {title} distibution')\n",
    "    if save_fig:\n",
    "        plt.savefig(f'{channel_name}_{col}_dist.png')"
   ]
  },
  {
   "cell_type": "code",
   "execution_count": 80,
   "metadata": {},
   "outputs": [
    {
     "data": {
      "image/png": "[encoded data removed]",
      "text/plain": [
       "<Figure size 432x288 with 1 Axes>"
      ]
     },
     "metadata": {
      "needs_background": "light"
     },
     "output_type": "display_data"
    }
   ],
   "source": [
    "plot_dist(wins, losses, 'like_ratio', channel_name, save_fig=True)"
   ]
  },
  {
   "cell_type": "markdown",
   "metadata": {},
   "source": [
    "The like ratio estimate is not far from the literature"
   ]
  },
  {
   "cell_type": "code",
   "execution_count": 81,
   "metadata": {},
   "outputs": [
    {
     "data": {
      "image/png": "[encoded data removed]",
      "text/plain": [
       "<Figure size 432x288 with 1 Axes>"
      ]
     },
     "metadata": {
      "needs_background": "light"
     },
     "output_type": "display_data"
    }
   ],
   "source": [
    "plot_dist(wins, losses, 'comment_ratio', channel_name, kde=True, save_fig=True)"
   ]
  },
  {
   "cell_type": "markdown",
   "metadata": {},
   "source": [
    "The comment ratio also seems to agree with the literature"
   ]
  },
  {
   "cell_type": "code",
   "execution_count": 82,
   "metadata": {},
   "outputs": [
    {
     "data": {
      "image/png": "[encoded data removed]",
      "text/plain": [
       "<Figure size 432x288 with 1 Axes>"
      ]
     },
     "metadata": {
      "needs_background": "light"
     },
     "output_type": "display_data"
    }
   ],
   "source": [
    "plot_dist(wins, losses, 'likes', channel_name, kde=False)"
   ]
  },
  {
   "cell_type": "code",
   "execution_count": 83,
   "metadata": {},
   "outputs": [
    {
     "data": {
      "image/png": "[encoded data removed]",
      "text/plain": [
       "<Figure size 432x288 with 1 Axes>"
      ]
     },
     "metadata": {
      "needs_background": "light"
     },
     "output_type": "display_data"
    }
   ],
   "source": [
    "plot_dist(wins, losses, 'comments', channel_name, kde=False)"
   ]
  },
  {
   "cell_type": "markdown",
   "metadata": {},
   "source": [
    "Like and comments follow poisson distribution as expected"
   ]
  },
  {
   "cell_type": "markdown",
   "metadata": {},
   "source": [
    "<h1>A/B test</h1>\n",
    "\n",
    "The Null hypothesis $\\left(H_0\\right)$ is that there is no difference in the like and comment ratios for wins and losses. \n",
    "\n",
    "The alternative hypothesis $\\left(H_a\\right)$ is that there is a difference between these ratios for wins and losses"
   ]
  },
  {
   "cell_type": "markdown",
   "metadata": {},
   "source": [
    "<h2>Pythonic method</h2>\n",
    "<p>Using scipy </p>\n",
    "\n",
    "https://docs.scipy.org/doc/scipy/reference/generated/scipy.stats.ttest_ind.html"
   ]
  },
  {
   "cell_type": "code",
   "execution_count": 84,
   "metadata": {},
   "outputs": [],
   "source": [
    "from scipy.stats import ttest_ind"
   ]
  },
  {
   "cell_type": "markdown",
   "metadata": {},
   "source": [
    "Set equal variance to False? We have very different sample sizes for wins and losses and it is very likely that the variance within groups is different. However setting to true or false does not change p-value significantly"
   ]
  },
  {
   "cell_type": "code",
   "execution_count": 85,
   "metadata": {},
   "outputs": [],
   "source": [
    "tstat, pval_likes = ttest_ind(wins_likes.values, loss_likes.values, equal_var=True)"
   ]
  },
  {
   "cell_type": "code",
   "execution_count": 86,
   "metadata": {},
   "outputs": [],
   "source": [
    "tstat, pval_comments = ttest_ind(wins_comments.values, loss_comments.values, equal_var=True)"
   ]
  },
  {
   "cell_type": "code",
   "execution_count": 87,
   "metadata": {},
   "outputs": [
    {
     "name": "stdout",
     "output_type": "stream",
     "text": [
      "The pvalue for like/views ratio is 6.69231246487344e-07\n"
     ]
    }
   ],
   "source": [
    "print(f'The pvalue for like/views ratio is {pval_likes[0]}')"
   ]
  },
  {
   "cell_type": "code",
   "execution_count": 88,
   "metadata": {},
   "outputs": [
    {
     "name": "stdout",
     "output_type": "stream",
     "text": [
      "The pvalue for like/comments ratio is 0.0045425939636976375\n"
     ]
    }
   ],
   "source": [
    "print(f'The pvalue for like/comments ratio is {pval_comments[0]}')"
   ]
  },
  {
   "cell_type": "code",
   "execution_count": null,
   "metadata": {},
   "outputs": [],
   "source": []
  },
  {
   "cell_type": "markdown",
   "metadata": {},
   "source": [
    "<h2>Manual method</h2>\n",
    "\n",
    "The Null hypothesis is that there is no difference between the metrics for wins and losses\n",
    "\n",
    "$H_0: \\hat{d}_i = 0$,\n",
    "\n",
    "where $\\hat{d}_i$ is the metric i.e. like_ratio or comment_ratio. This difference\n",
    "should follow a normal distribution with the pooled standard error\n",
    "\n",
    "$\\hat{d}_i \\sim \\mathcal{N}(0,\\,SE_{pool})$\n",
    "\n",
    "\n",
    "For metrics which follow a normal distribution, we can calculate the standard error using the following formula,\n",
    "\n",
    "$SE_{pool} = \\sqrt{\\hat{p}_{pool} (1-\\hat{p}_{pool}) \\left(\\frac{1}{N_c} + \\frac{1}{N_e}\\right)}$\n",
    "\n",
    "where the pooled statistic is calculated like the below\n",
    "\n",
    "$\\hat{p}_{pool} = \\frac{\\text{likes}_{wins} + \\text{likes}_{losses}}{N_{wins} + N_{losses}}$\n",
    "\n",
    "For non-normal distributions, we can use the empirical estimate of the metric to determine the standard error of the experiment using the folowing formula\n",
    "\n",
    "$\\frac{SE_{exp}}{\\sqrt{\\frac{1}{N_c} + \\frac{1}{N_e}}} = \\frac{SE_{empirical}}{\\sqrt{\\frac{1}{N_c} + \\frac{1}{N_e}}}$,\n",
    "\n",
    "here N = number of views\n"
   ]
  },
  {
   "cell_type": "code",
   "execution_count": null,
   "metadata": {},
   "outputs": [],
   "source": []
  },
  {
   "cell_type": "code",
   "execution_count": null,
   "metadata": {},
   "outputs": [],
   "source": []
  },
  {
   "cell_type": "code",
   "execution_count": 89,
   "metadata": {},
   "outputs": [],
   "source": [
    "def test_hypothesis(ctrl, exp, num, den, bcr, zscore=1.96, dist='normal', size=100000):\n",
    "    '''\n",
    "    Test if the Null hypothesis i.e. no difference between control and experiment\n",
    "    is likely.\n",
    "    \n",
    "    If the range of the difference between control and experiment metric does not \n",
    "    include 0 then reject the Null\n",
    "    \n",
    "    Args:               \n",
    "        ctrl: data for control group (wins)\n",
    "        exp: data for experiment group (losses)\n",
    "        num: numerator for metric calculation\n",
    "        den: denominator for metric calculation\n",
    "        bcr: empirical baseline rate \n",
    "        zscore: z* for confidence interval (1.96 => 95%)        \n",
    "        dist: determines what formula is used to calc standard error\n",
    "        size: sample size used for empirical estimate. Assume 100K\n",
    "    \n",
    "    \n",
    "    '''\n",
    "    \n",
    "    print(f'No of control samples= {len(ctrl)}, views= {sum(ctrl[den])}')\n",
    "    print(f'No of experiment samples= {len(exp)}, views= {sum(exp[den])}')\n",
    "    \n",
    "    p_ctrl = sum(ctrl[num])/sum(ctrl[den])\n",
    "    p_exp = sum(exp[num])/sum(exp[den])\n",
    "    \n",
    "    print(f'\\ncontrol statistic = {p_ctrl}')\n",
    "    print(f'experiment statistic = {p_exp}')\n",
    "    \n",
    "    p_pool = (sum(ctrl[num]) + sum(exp[num]))/(sum(exp[den]) + sum(ctrl[den]))\n",
    "    print(f'pooled statistic = {p_pool}')\n",
    "    \n",
    "    dhat = p_exp - p_ctrl\n",
    "    print(f'dhat = {dhat}')\n",
    "    \n",
    "    if dist == 'normal':\n",
    "        se = np.sqrt( ( p_pool*(1-p_pool) ) * ( 1./sum(exp[den]) + 1./sum(ctrl[den]) ) )        \n",
    "    else:\n",
    "        se = (bcr*np.sqrt((1/sum(exp[den])) + (1/sum(ctrl[den]))))/np.sqrt((1/size) + (1/size))        \n",
    "    \n",
    "    me = zscore * se\n",
    "    print(f'The standard error is = {se}')\n",
    "    print(f'The margin of error is = {me}')\n",
    "    \n",
    "    upper_bound = dhat + me\n",
    "    lower_bound = dhat - me\n",
    "    print(f'\\nThe range expected is: \\n{lower_bound} - {upper_bound}\\n')    \n",
    "    \n",
    "    if not (lower_bound <=  0 <= upper_bound):\n",
    "        print(f'0 does not lie within the expected range based on the confidence level')\n",
    "        print('\\n***Reject the Null Hypothesis***')                \n",
    "    else:\n",
    "        print(f'dhat lies in the expected range based on the confidence level')      \n",
    "        print('\\n***Fail to reject the Null***')\n",
    "    "
   ]
  },
  {
   "cell_type": "code",
   "execution_count": 90,
   "metadata": {},
   "outputs": [
    {
     "name": "stdout",
     "output_type": "stream",
     "text": [
      "No of control samples= 138, views= 39456036\n",
      "No of experiment samples= 87, views= 39213893\n",
      "\n",
      "control statistic = 0.02419670338905814\n",
      "experiment statistic = 0.019826544638146485\n",
      "pooled statistic = 0.022018349603442504\n",
      "dhat = -0.004370158750911655\n",
      "The standard error is = 3.308913456531181e-05\n",
      "The margin of error is = 6.485470374801115e-05\n",
      "\n",
      "The range expected is: \n",
      "-0.004435013454659666 - -0.004305304047163644\n",
      "\n",
      "0 does not lie within the expected range based on the confidence level\n",
      "\n",
      "***Reject the Null Hypothesis***\n"
     ]
    }
   ],
   "source": [
    "test_hypothesis(ctrl=wins, exp=losses, num='likes', den='views', bcr=0.02)"
   ]
  },
  {
   "cell_type": "markdown",
   "metadata": {},
   "source": [
    "<font color='red'> For comments, don't use binomial formula for the standard error</font>"
   ]
  },
  {
   "cell_type": "code",
   "execution_count": 91,
   "metadata": {},
   "outputs": [
    {
     "name": "stdout",
     "output_type": "stream",
     "text": [
      "No of control samples= 138, views= 39456036\n",
      "No of experiment samples= 87, views= 39213893\n",
      "\n",
      "control statistic = 0.0035837102338410276\n",
      "experiment statistic = 0.004211288075886778\n",
      "pooled statistic = 0.003896533324696403\n",
      "dhat = 0.0006275778420457507\n",
      "The standard error is = 0.0002521057088773186\n",
      "The margin of error is = 0.0004941271893995444\n",
      "\n",
      "The range expected is: \n",
      "0.0001334506526462063 - 0.001121705031445295\n",
      "\n",
      "0 does not lie within the expected range based on the confidence level\n",
      "\n",
      "***Reject the Null Hypothesis***\n"
     ]
    }
   ],
   "source": [
    "test_hypothesis(ctrl=wins, exp=losses, num='comments', den='views', bcr=0.005, dist='p')"
   ]
  },
  {
   "cell_type": "code",
   "execution_count": null,
   "metadata": {},
   "outputs": [],
   "source": []
  },
  {
   "cell_type": "code",
   "execution_count": null,
   "metadata": {},
   "outputs": [],
   "source": []
  },
  {
   "cell_type": "code",
   "execution_count": null,
   "metadata": {},
   "outputs": [],
   "source": []
  },
  {
   "cell_type": "code",
   "execution_count": null,
   "metadata": {},
   "outputs": [],
   "source": []
  },
  {
   "cell_type": "code",
   "execution_count": null,
   "metadata": {},
   "outputs": [],
   "source": []
  },
  {
   "cell_type": "code",
   "execution_count": null,
   "metadata": {},
   "outputs": [],
   "source": []
  }
 ],
 "metadata": {
  "kernelspec": {
   "display_name": "Python 3",
   "language": "python",
   "name": "python3"
  },
  "language_info": {
   "codemirror_mode": {
    "name": "ipython",
    "version": 3
   },
   "file_extension": ".py",
   "mimetype": "text/x-python",
   "name": "python",
   "nbconvert_exporter": "python",
   "pygments_lexer": "ipython3",
   "version": "3.6.8"
  }
 },
 "nbformat": 4,
 "nbformat_minor": 4
}
