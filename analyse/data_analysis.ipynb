{
 "cells": [
  {
   "cell_type": "markdown",
   "metadata": {},
   "source": [
    "<h1>Summary</h1>\n",
    "<p>I would like to determine if football fan channels 'profit' from the under-performance of their team. As with many business problems, we can't directly measure our target. In this case for example, we don't know the revenue and costs for making these videos (among other things). Therefore I will assume that 'engagement' is correlated with profit and use 'engagement' as a proxy. The type of engagement we are concerned with are views, likes, and comments.</p>\n",
    "\n",
    "<p> Some questions I would like to answer include:\n",
    "    <ul>\n",
    "        <li>Does engagement change with time?</li>\n",
    "        <li>Do results (win/loss) affect engagement?</li>\n",
    "        <li>What is the ratio of wins-losses-draws?</li>\n",
    "    </ul>\n",
    "\n",
    "</p>\n"
   ]
  },
  {
   "cell_type": "code",
   "execution_count": 56,
   "metadata": {},
   "outputs": [],
   "source": [
    "import pandas as pd"
   ]
  },
  {
   "cell_type": "markdown",
   "metadata": {},
   "source": [
    "Read in data"
   ]
  },
  {
   "cell_type": "code",
   "execution_count": 57,
   "metadata": {},
   "outputs": [],
   "source": [
    "channel_name = 'tus'\n",
    "videos = pd.read_csv(f'../data/{channel_name}/{channel_name}_preprocess.csv')"
   ]
  },
  {
   "cell_type": "markdown",
   "metadata": {},
   "source": [
    "Peek at head of data"
   ]
  },
  {
   "cell_type": "code",
   "execution_count": 58,
   "metadata": {},
   "outputs": [
    {
     "data": {
      "text/html": [
       "<div>\n",
       "<style scoped>\n",
       "    .dataframe tbody tr th:only-of-type {\n",
       "        vertical-align: middle;\n",
       "    }\n",
       "\n",
       "    .dataframe tbody tr th {\n",
       "        vertical-align: top;\n",
       "    }\n",
       "\n",
       "    .dataframe thead th {\n",
       "        text-align: right;\n",
       "    }\n",
       "</style>\n",
       "<table border=\"1\" class=\"dataframe\">\n",
       "  <thead>\n",
       "    <tr style=\"text-align: right;\">\n",
       "      <th></th>\n",
       "      <th>title</th>\n",
       "      <th>date</th>\n",
       "      <th>views</th>\n",
       "      <th>likes</th>\n",
       "      <th>comments</th>\n",
       "      <th>team_score</th>\n",
       "      <th>opponent_score</th>\n",
       "    </tr>\n",
       "  </thead>\n",
       "  <tbody>\n",
       "    <tr>\n",
       "      <th>0</th>\n",
       "      <td>RANGNICK GONE! Man Utd Transfer News</td>\n",
       "      <td>2022-05-29</td>\n",
       "      <td>59160</td>\n",
       "      <td>6057</td>\n",
       "      <td>200.0</td>\n",
       "      <td>NaN</td>\n",
       "      <td>NaN</td>\n",
       "    </tr>\n",
       "    <tr>\n",
       "      <th>1</th>\n",
       "      <td>TEN HAG'S 200 MILLION Transfer Request! Man Ut...</td>\n",
       "      <td>2022-05-29</td>\n",
       "      <td>145954</td>\n",
       "      <td>5766</td>\n",
       "      <td>150.0</td>\n",
       "      <td>NaN</td>\n",
       "      <td>NaN</td>\n",
       "    </tr>\n",
       "    <tr>\n",
       "      <th>2</th>\n",
       "      <td>TEN HAG'S DE JONG Back Up Plan! Man Utd Transf...</td>\n",
       "      <td>2022-05-28</td>\n",
       "      <td>136669</td>\n",
       "      <td>4374</td>\n",
       "      <td>250.0</td>\n",
       "      <td>NaN</td>\n",
       "      <td>NaN</td>\n",
       "    </tr>\n",
       "    <tr>\n",
       "      <th>3</th>\n",
       "      <td>United AGREE DE JONG FEE! TEN HAG Persuades FR...</td>\n",
       "      <td>2022-05-28</td>\n",
       "      <td>278585</td>\n",
       "      <td>9293</td>\n",
       "      <td>757.0</td>\n",
       "      <td>NaN</td>\n",
       "      <td>NaN</td>\n",
       "    </tr>\n",
       "    <tr>\n",
       "      <th>4</th>\n",
       "      <td>TEN HAG'S First SIGNING! Man Utd Transfer News</td>\n",
       "      <td>2022-05-27</td>\n",
       "      <td>251850</td>\n",
       "      <td>7049</td>\n",
       "      <td>348.0</td>\n",
       "      <td>NaN</td>\n",
       "      <td>NaN</td>\n",
       "    </tr>\n",
       "  </tbody>\n",
       "</table>\n",
       "</div>"
      ],
      "text/plain": [
       "                                               title        date   views  \\\n",
       "0               RANGNICK GONE! Man Utd Transfer News  2022-05-29   59160   \n",
       "1  TEN HAG'S 200 MILLION Transfer Request! Man Ut...  2022-05-29  145954   \n",
       "2  TEN HAG'S DE JONG Back Up Plan! Man Utd Transf...  2022-05-28  136669   \n",
       "3  United AGREE DE JONG FEE! TEN HAG Persuades FR...  2022-05-28  278585   \n",
       "4     TEN HAG'S First SIGNING! Man Utd Transfer News  2022-05-27  251850   \n",
       "\n",
       "   likes  comments  team_score  opponent_score  \n",
       "0   6057     200.0         NaN             NaN  \n",
       "1   5766     150.0         NaN             NaN  \n",
       "2   4374     250.0         NaN             NaN  \n",
       "3   9293     757.0         NaN             NaN  \n",
       "4   7049     348.0         NaN             NaN  "
      ]
     },
     "execution_count": 58,
     "metadata": {},
     "output_type": "execute_result"
    }
   ],
   "source": [
    "videos.head()"
   ]
  },
  {
   "cell_type": "code",
   "execution_count": 59,
   "metadata": {},
   "outputs": [
    {
     "data": {
      "text/plain": [
       "(2357, 659)"
      ]
     },
     "execution_count": 59,
     "metadata": {},
     "output_type": "execute_result"
    }
   ],
   "source": [
    "len(videos), len(videos.dropna())"
   ]
  },
  {
   "cell_type": "markdown",
   "metadata": {},
   "source": [
    "<h3>Function to calculate aggregate values</h3>"
   ]
  },
  {
   "cell_type": "code",
   "execution_count": 60,
   "metadata": {},
   "outputs": [],
   "source": [
    "def channel_statistics(channel_videos: pd.DataFrame) -> pd.DataFrame:\n",
    "    '''\n",
    "    Aggregate (sum) likes, comments, and views per day\n",
    "    create column result to specify win/loss/draw\n",
    "        \n",
    "    '''\n",
    "    # drop nans as these are not match day videos\n",
    "    channel_matches = channel_videos[channel_videos['team_score'].notna()]\n",
    "    \n",
    "    # aggregate statistics per day\n",
    "    channel_stats = channel_matches.groupby('date').agg({'title': 'first',\n",
    "                                                    'views': 'sum',\n",
    "                                                    'likes': 'sum',\n",
    "                                                    'comments': 'sum',\n",
    "                                                    'team_score': 'first',\n",
    "                                                    'opponent_score': 'first'})\n",
    "    \n",
    "    # flag for wins, draws, and losses\n",
    "    channel_stats.loc[channel_stats['team_score'] > channel_stats['opponent_score'],'result'] = 'win'\n",
    "    channel_stats.loc[channel_stats['team_score'] < channel_stats['opponent_score'],'result'] =  'loss'\n",
    "    channel_stats.loc[channel_stats['team_score'] == channel_stats['opponent_score'],'result'] = 'draw'\n",
    "    \n",
    "    return channel_stats\n",
    "    \n",
    "    "
   ]
  },
  {
   "cell_type": "code",
   "execution_count": 61,
   "metadata": {},
   "outputs": [],
   "source": [
    "channel_stats = channel_statistics(videos)"
   ]
  },
  {
   "cell_type": "code",
   "execution_count": 62,
   "metadata": {},
   "outputs": [
    {
     "data": {
      "text/plain": [
       "242"
      ]
     },
     "execution_count": 62,
     "metadata": {},
     "output_type": "execute_result"
    }
   ],
   "source": [
    "len(channel_stats)"
   ]
  },
  {
   "cell_type": "markdown",
   "metadata": {},
   "source": [
    "<font color='blue'>What is the win:draw:loss ratio?</font>"
   ]
  },
  {
   "cell_type": "code",
   "execution_count": 63,
   "metadata": {},
   "outputs": [
    {
     "data": {
      "text/plain": [
       "win     0.450413\n",
       "loss    0.322314\n",
       "draw    0.227273\n",
       "Name: result, dtype: float64"
      ]
     },
     "execution_count": 63,
     "metadata": {},
     "output_type": "execute_result"
    }
   ],
   "source": [
    "channel_stats['result'].value_counts(normalize=True)"
   ]
  },
  {
   "cell_type": "code",
   "execution_count": 64,
   "metadata": {
    "scrolled": true
   },
   "outputs": [
    {
     "data": {
      "text/plain": [
       "win     109\n",
       "loss     78\n",
       "draw     55\n",
       "Name: result, dtype: int64"
      ]
     },
     "execution_count": 64,
     "metadata": {},
     "output_type": "execute_result"
    }
   ],
   "source": [
    "channel_stats['result'].value_counts()"
   ]
  },
  {
   "cell_type": "markdown",
   "metadata": {},
   "source": [
    "<hr>\n",
    "<h3>Visualisation of engagement over time</h3>"
   ]
  },
  {
   "cell_type": "code",
   "execution_count": 65,
   "metadata": {},
   "outputs": [],
   "source": [
    "import matplotlib.pyplot as plt\n",
    "import seaborn as sns"
   ]
  },
  {
   "cell_type": "code",
   "execution_count": 66,
   "metadata": {},
   "outputs": [],
   "source": [
    "color_dict = {'win' :'green', 'loss': 'red', 'draw': 'blue'}"
   ]
  },
  {
   "cell_type": "code",
   "execution_count": 67,
   "metadata": {},
   "outputs": [
    {
     "data": {
      "image/png": "[encoded data removed]",
      "text/plain": [
       "<Figure size 864x432 with 2 Axes>"
      ]
     },
     "metadata": {
      "needs_background": "light"
     },
     "output_type": "display_data"
    }
   ],
   "source": [
    "ax1 = sns.set_style(style=None, rc=None )\n",
    "\n",
    "fig, ax1 = plt.subplots(figsize=(12,6))\n",
    "ax1.set_title(f'{channel_name.upper()}: sum of views (bars) and likes (line) over time')\n",
    "\n",
    "# bar plot of views\n",
    "sns.barplot(data=channel_stats.reset_index(), x='date', y='views', hue='result', palette=color_dict, ax=ax1)\n",
    "ax2 = ax1.twinx()\n",
    "\n",
    "# line plot of likes\n",
    "sns.lineplot(data=channel_stats.reset_index(), x='date', y='likes', color='k', alpha=0.75, ax=ax2)\n",
    "#ax2.lines[0].set_linestyle(\"--\")\n",
    "\n",
    "# limit number of xticks displayed\n",
    "xticks=ax1.xaxis.get_major_ticks()\n",
    "for i in range(len(xticks)):\n",
    "    xticks[i].set_visible(False)\n",
    "    \n",
    "for i in range(0,len(xticks),12):\n",
    "    xticks[i].set_visible(True)    \n",
    "    \n",
    "        \n",
    "        \n",
    "ax1.legend(loc='upper left')\n",
    "ax1.tick_params(axis='x', rotation=90)\n",
    "\n",
    "# save fig\n",
    "plt.savefig(f'{channel_name}.png')"
   ]
  },
  {
   "cell_type": "markdown",
   "metadata": {},
   "source": [
    "<font color='blue'> I can see that there is an increase in views and likes with time. This makes sense as the channels get more popular and gain more subscribers/viewers </font>\n",
    "\n",
    "TODO: investigate 'outliers'"
   ]
  },
  {
   "cell_type": "code",
   "execution_count": null,
   "metadata": {},
   "outputs": [],
   "source": []
  },
  {
   "cell_type": "markdown",
   "metadata": {},
   "source": [
    "<hr>\n",
    "<h3>Summary statistics</h3>\n",
    "<p>Investigate descriptive statistics for wins, losses, and draws</p>"
   ]
  },
  {
   "cell_type": "code",
   "execution_count": 68,
   "metadata": {},
   "outputs": [],
   "source": [
    "summary = channel_stats.copy()"
   ]
  },
  {
   "cell_type": "code",
   "execution_count": 69,
   "metadata": {},
   "outputs": [],
   "source": [
    "stats = ['min', 'max', 'mean', 'median']"
   ]
  },
  {
   "cell_type": "code",
   "execution_count": 70,
   "metadata": {},
   "outputs": [],
   "source": [
    "results = summary.groupby('result').agg({'views': stats,\n",
    "                            'likes': stats,\n",
    "                           'comments': stats}).transpose()"
   ]
  },
  {
   "cell_type": "markdown",
   "metadata": {},
   "source": [
    "<font color='blue'>Do results affect engagement?</font>"
   ]
  },
  {
   "cell_type": "code",
   "execution_count": 71,
   "metadata": {},
   "outputs": [
    {
     "data": {
      "text/html": [
       "<div>\n",
       "<style scoped>\n",
       "    .dataframe tbody tr th:only-of-type {\n",
       "        vertical-align: middle;\n",
       "    }\n",
       "\n",
       "    .dataframe tbody tr th {\n",
       "        vertical-align: top;\n",
       "    }\n",
       "\n",
       "    .dataframe thead th {\n",
       "        text-align: right;\n",
       "    }\n",
       "</style>\n",
       "<table border=\"1\" class=\"dataframe\">\n",
       "  <thead>\n",
       "    <tr style=\"text-align: right;\">\n",
       "      <th></th>\n",
       "      <th>result</th>\n",
       "      <th>draw</th>\n",
       "      <th>loss</th>\n",
       "      <th>win</th>\n",
       "    </tr>\n",
       "  </thead>\n",
       "  <tbody>\n",
       "    <tr>\n",
       "      <th rowspan=\"4\" valign=\"top\">views</th>\n",
       "      <th>min</th>\n",
       "      <td>11003.000000</td>\n",
       "      <td>6175.000000</td>\n",
       "      <td>10682.000000</td>\n",
       "    </tr>\n",
       "    <tr>\n",
       "      <th>max</th>\n",
       "      <td>560487.000000</td>\n",
       "      <td>872637.000000</td>\n",
       "      <td>684052.000000</td>\n",
       "    </tr>\n",
       "    <tr>\n",
       "      <th>mean</th>\n",
       "      <td>210955.545455</td>\n",
       "      <td>231980.794872</td>\n",
       "      <td>190234.697248</td>\n",
       "    </tr>\n",
       "    <tr>\n",
       "      <th>median</th>\n",
       "      <td>188398.000000</td>\n",
       "      <td>146680.000000</td>\n",
       "      <td>123320.000000</td>\n",
       "    </tr>\n",
       "    <tr>\n",
       "      <th rowspan=\"4\" valign=\"top\">likes</th>\n",
       "      <th>min</th>\n",
       "      <td>192.000000</td>\n",
       "      <td>189.000000</td>\n",
       "      <td>329.000000</td>\n",
       "    </tr>\n",
       "    <tr>\n",
       "      <th>max</th>\n",
       "      <td>14563.000000</td>\n",
       "      <td>21801.000000</td>\n",
       "      <td>35676.000000</td>\n",
       "    </tr>\n",
       "    <tr>\n",
       "      <th>mean</th>\n",
       "      <td>5632.509091</td>\n",
       "      <td>5586.294872</td>\n",
       "      <td>6556.183486</td>\n",
       "    </tr>\n",
       "    <tr>\n",
       "      <th>median</th>\n",
       "      <td>4110.000000</td>\n",
       "      <td>3155.500000</td>\n",
       "      <td>3394.000000</td>\n",
       "    </tr>\n",
       "    <tr>\n",
       "      <th rowspan=\"4\" valign=\"top\">comments</th>\n",
       "      <th>min</th>\n",
       "      <td>27.000000</td>\n",
       "      <td>22.000000</td>\n",
       "      <td>32.000000</td>\n",
       "    </tr>\n",
       "    <tr>\n",
       "      <th>max</th>\n",
       "      <td>2888.000000</td>\n",
       "      <td>4450.000000</td>\n",
       "      <td>2018.000000</td>\n",
       "    </tr>\n",
       "    <tr>\n",
       "      <th>mean</th>\n",
       "      <td>761.200000</td>\n",
       "      <td>858.871795</td>\n",
       "      <td>517.036697</td>\n",
       "    </tr>\n",
       "    <tr>\n",
       "      <th>median</th>\n",
       "      <td>654.000000</td>\n",
       "      <td>597.500000</td>\n",
       "      <td>353.000000</td>\n",
       "    </tr>\n",
       "  </tbody>\n",
       "</table>\n",
       "</div>"
      ],
      "text/plain": [
       "result                    draw           loss            win\n",
       "views    min      11003.000000    6175.000000   10682.000000\n",
       "         max     560487.000000  872637.000000  684052.000000\n",
       "         mean    210955.545455  231980.794872  190234.697248\n",
       "         median  188398.000000  146680.000000  123320.000000\n",
       "likes    min        192.000000     189.000000     329.000000\n",
       "         max      14563.000000   21801.000000   35676.000000\n",
       "         mean      5632.509091    5586.294872    6556.183486\n",
       "         median    4110.000000    3155.500000    3394.000000\n",
       "comments min         27.000000      22.000000      32.000000\n",
       "         max       2888.000000    4450.000000    2018.000000\n",
       "         mean       761.200000     858.871795     517.036697\n",
       "         median     654.000000     597.500000     353.000000"
      ]
     },
     "execution_count": 71,
     "metadata": {},
     "output_type": "execute_result"
    }
   ],
   "source": [
    "results"
   ]
  },
  {
   "cell_type": "markdown",
   "metadata": {},
   "source": [
    "save results"
   ]
  },
  {
   "cell_type": "code",
   "execution_count": 72,
   "metadata": {},
   "outputs": [],
   "source": [
    "results.to_csv(f'{channel_name}_summary_statistics.csv')"
   ]
  },
  {
   "cell_type": "code",
   "execution_count": 73,
   "metadata": {},
   "outputs": [],
   "source": [
    "channel_stats.to_csv(f'{channel_name}_performance_statistics.csv')"
   ]
  },
  {
   "cell_type": "code",
   "execution_count": null,
   "metadata": {},
   "outputs": [],
   "source": []
  },
  {
   "cell_type": "code",
   "execution_count": null,
   "metadata": {},
   "outputs": [],
   "source": []
  },
  {
   "cell_type": "code",
   "execution_count": null,
   "metadata": {},
   "outputs": [],
   "source": []
  }
 ],
 "metadata": {
  "kernelspec": {
   "display_name": "Python 3",
   "language": "python",
   "name": "python3"
  },
  "language_info": {
   "codemirror_mode": {
    "name": "ipython",
    "version": 3
   },
   "file_extension": ".py",
   "mimetype": "text/x-python",
   "name": "python",
   "nbconvert_exporter": "python",
   "pygments_lexer": "ipython3",
   "version": "3.6.8"
  }
 },
 "nbformat": 4,
 "nbformat_minor": 4
}
